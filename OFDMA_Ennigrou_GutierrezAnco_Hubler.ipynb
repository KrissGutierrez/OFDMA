{
 "cells": [
  {
   "cell_type": "markdown",
   "id": "b9a0f9c3",
   "metadata": {},
   "source": [
    "# <div align=\"center\">  MACS207b - OFDMA </div>\n",
    "\n",
    "### Homework of Inès ENNIGROU - Kriss GUTIERREZ ANCO - Marion HUBLER"
   ]
  },
  {
   "cell_type": "markdown",
   "id": "b99df8d9",
   "metadata": {},
   "source": [
    "**Aim :** In this labwork, our aim is to modelize the users of an antenna as distributed according to a Poisson Process of intensity $\\lambda$ on a circle of radius $R$, whose center is occupied by said antenna. By considering the active users among them, our goal is to modelize the distribution of the cumulative number of required subcarriers by all the users in the cell, to study the outage probability, that is the probability for the users to require more subcarriers than the available ones "
   ]
  },
  {
   "cell_type": "code",
   "execution_count": 3,
   "id": "2b06734e",
   "metadata": {},
   "outputs": [],
   "source": [
    "import numpy as np\n",
    "import math\n",
    "import matplotlib.pyplot as plt"
   ]
  },
  {
   "cell_type": "code",
   "execution_count": 4,
   "id": "a9f74350",
   "metadata": {},
   "outputs": [],
   "source": [
    "## Numerical values for the problem\n",
    "\n",
    "C = 200 #kb/s \n",
    "W = 250 #kHz \n",
    "K = 1e+06 #su\n",
    "Gamma = 2.8 #su\n",
    "R = 300 #m\n",
    "Lambda = 0.01 #m^-2\n",
    "SINRmin = 0.1 #su\n",
    "p = 0.01 #su"
   ]
  },
  {
   "cell_type": "markdown",
   "id": "feb0846b",
   "metadata": {},
   "source": [
    "____"
   ]
  },
  {
   "cell_type": "markdown",
   "id": "129e6408",
   "metadata": {},
   "source": [
    "### Question 1"
   ]
  },
  {
   "cell_type": "markdown",
   "id": "f7b8468f",
   "metadata": {},
   "source": [
    "We know that the users are sampled with respect to a Poisson Point Process of intensity measure $\\lambda dx$. According to the thinning theorem **(Theorem 5.7)** applied to the Poisson Process of the users ($ U \\sim \\mathcal{PPP}(\\lambda dx)$), we get that the **active users** follow a Poisson Process of intensity $d\\mu = p\\lambda dx$ that is : $ \\boxed{AU \\sim \\mathcal{PPP}(p\\lambda dx)} $"
   ]
  },
  {
   "cell_type": "markdown",
   "id": "aab3e56e",
   "metadata": {},
   "source": [
    "____"
   ]
  },
  {
   "cell_type": "markdown",
   "id": "143789b0",
   "metadata": {},
   "source": [
    "### Question 2"
   ]
  },
  {
   "cell_type": "markdown",
   "id": "a8a892f8",
   "metadata": {},
   "source": [
    "We know that the number of **active users** $AU \\sim \\mathcal{PPP}(p\\lambda dx)$, and want the average number of users on the cell which is a disk of area $\\pi R^2 $, which means the mean number of active customers in the cell is $ \\boxed{p \\lambda \\pi R^2}$"
   ]
  },
  {
   "cell_type": "code",
   "execution_count": 5,
   "id": "7ff6da48",
   "metadata": {},
   "outputs": [
    {
     "name": "stdout",
     "output_type": "stream",
     "text": [
      "The number of active users is  28.274333882308138\n"
     ]
    }
   ],
   "source": [
    "## Numerical application \n",
    "\n",
    "number_active_users = p * Lambda * np.pi * R**2\n",
    "print(\"The number of active users is \", number_active_users)"
   ]
  },
  {
   "cell_type": "markdown",
   "id": "c486a364",
   "metadata": {},
   "source": [
    "____"
   ]
  },
  {
   "cell_type": "markdown",
   "id": "af74b9a9",
   "metadata": {},
   "source": [
    "### Question 3"
   ]
  },
  {
   "cell_type": "markdown",
   "id": "6df5db9f",
   "metadata": {},
   "source": [
    "The function that to an atom associates the number of subcarriers it requires has the following properties :\n",
    "- it takes integer values $\\implies$ the areas are well defined\n",
    "- it depends on $x$ only through the value of its **euclidian norm** $||x|| \\implies$ the areas are concentric circles\n",
    "- is an increasing function of $||x||$ (since $\\mathcal{ln}(1+\\frac{1}{x})$ is a decreasing function of $||x||$) $\\implies$ the further an atom $x$ is from the source, the more subcarriers it requires\n",
    "\n",
    "In fact we can even plot the curve : "
   ]
  },
  {
   "cell_type": "code",
   "execution_count": 6,
   "id": "d76d84c0",
   "metadata": {},
   "outputs": [
    {
     "name": "stderr",
     "output_type": "stream",
     "text": [
      "C:\\Users\\ASPIRE 5\\AppData\\Local\\Temp\\ipykernel_1284\\3653585205.py:2: RuntimeWarning: divide by zero encountered in double_scalars\n",
      "  return math.ceil(C / (W * np.log2(1+K/r**Gamma)))\n"
     ]
    },
    {
     "data": {
      "image/png": "[encoded data removed]",
      "text/plain": [
       "<Figure size 432x288 with 1 Axes>"
      ]
     },
     "metadata": {
      "needs_background": "light"
     },
     "output_type": "display_data"
    }
   ],
   "source": [
    "def N(r):\n",
    "    return math.ceil(C / (W * np.log2(1+K/r**Gamma)))\n",
    "                \n",
    "Rad = np.linspace(0, 300, 1000)\n",
    "Requests = [N(r) for r in Rad]\n",
    "\n",
    "plt.figure()\n",
    "plt.plot(Rad, Requests)\n",
    "plt.xlabel('Distance r of the point to the antenna at the origin (0,0)')\n",
    "plt.ylabel('Value of N(r)')\n",
    "plt.title('Number of subcarriers required by a user located at radius r')\n",
    "plt.grid()\n",
    "plt.show()"
   ]
  },
  {
   "cell_type": "markdown",
   "id": "e462b044",
   "metadata": {},
   "source": [
    "So the subset of the cell in which all customers require k subcarriers is a **ring** between the two radius :\n",
    "- $radius_{inner} = max||N^{-1}(k-1)||$\n",
    "- $radius_{outer} = max||N^{-1}(k)||$"
   ]
  },
  {
   "cell_type": "markdown",
   "id": "af938b7f",
   "metadata": {},
   "source": [
    "____"
   ]
  },
  {
   "cell_type": "markdown",
   "id": "ef981d16",
   "metadata": {},
   "source": [
    "### Question 4"
   ]
  },
  {
   "cell_type": "markdown",
   "id": "b030e392",
   "metadata": {},
   "source": [
    "We established :\n",
    "$$r_2 =  \\max\\{||x||: x\\in\\mathbb{R}^2,\\,\\, N(x) = 2\\}$$\n",
    "$$r_3 =  \\max\\{||x||: x\\in\\mathbb{R}^2,\\,\\, N(x) = 3\\}$$\n",
    "\n",
    "\n",
    "then from **Question 3** we know that the users who request 3 subcarriers are the active users located in the ring with inner radius $r_2$ and outer radius $r_3$ which we call $S_3$, then we apply **Theorem 5.3** on $AU\\sim PPP(p\\lambda dx)$, where $dx$ is the Lebesgue measure on $\\mathbb{R}^2$ then $AU(S_3)$ follows a **Poisson Distribution** with parameter:\n",
    "\n",
    "$$\\mu_3 = p\\lambda.Area(S_3) = p\\lambda.(\\pi.r_3^2 - \\pi.r_2^2) = p\\lambda\\pi.(r_3^2-r_2^2)$$\n",
    "\n",
    "$$ \\boxed{A_3 \\sim \\mathcal{Pois}(\\mu_3)} $$"
   ]
  },
  {
   "cell_type": "markdown",
   "id": "75054634",
   "metadata": {},
   "source": [
    "____"
   ]
  },
  {
   "cell_type": "markdown",
   "id": "7c124418",
   "metadata": {},
   "source": [
    "### Question 5"
   ]
  },
  {
   "cell_type": "markdown",
   "id": "9a57c31e",
   "metadata": {},
   "source": [
    "The idea would be to sample a Poisson Process of parameter $p\\lambda$ on the disk. Then, count the number of atoms $x$, such that $N(x) = 3$. **That will give us the value taken by A3 on this instance.** \n",
    "\n",
    "Then repeat the process for an arbitrary but large enough number of sampled points according to a Poisson Process of parameter $p\\lambda$.\n",
    "\n",
    "Put all the instances of the value of A3 in a list and then run a Kolmogorov-Smironov test on these samples, commparing it to a Poisson distribution of intensity $\\mu_3$. \n",
    "\n",
    "The output will be a number between zero and one, infirming or confimring the fit between the ditributions."
   ]
  },
  {
   "cell_type": "code",
   "execution_count": 9,
   "id": "76c33c17",
   "metadata": {},
   "outputs": [],
   "source": [
    "def SimulatePoints():\n",
    "    x0 = (0,0)\n",
    "    cellArea = np.pi*R**2\n",
    " \n",
    "    #Simulate Poisson point process\n",
    "    nbPoints = np.random.poisson(p*Lambda*areaTotal)\n",
    "    theta=2*np.pi*np.random.uniform(0,1,nbPoints) \n",
    "    r=R*np.sqrt(np.random.uniform(0,1,nbPoints)) \n",
    " \n",
    "    #Get Cartesian coordinates\n",
    "    x = r * np.cos(theta)\n",
    "    y = r * np.sin(theta)\n",
    " \n",
    "    return x,y"
   ]
  },
  {
   "cell_type": "code",
   "execution_count": 8,
   "id": "c61c8347",
   "metadata": {},
   "outputs": [
    {
     "ename": "NameError",
     "evalue": "name 'areaTotal' is not defined",
     "output_type": "error",
     "traceback": [
      "\u001b[1;31m---------------------------------------------------------------------------\u001b[0m",
      "\u001b[1;31mNameError\u001b[0m                                 Traceback (most recent call last)",
      "Input \u001b[1;32mIn [8]\u001b[0m, in \u001b[0;36m<cell line: 3>\u001b[1;34m()\u001b[0m\n\u001b[0;32m      1\u001b[0m \u001b[38;5;66;03m# Samle Points\u001b[39;00m\n\u001b[1;32m----> 3\u001b[0m x,y \u001b[38;5;241m=\u001b[39m \u001b[43mSimulatePoints\u001b[49m\u001b[43m(\u001b[49m\u001b[43m)\u001b[49m\n\u001b[0;32m      5\u001b[0m \u001b[38;5;66;03m# Outer circle \u001b[39;00m\n\u001b[0;32m      7\u001b[0m cell \u001b[38;5;241m=\u001b[39m plt\u001b[38;5;241m.\u001b[39mCircle(x0,R ,fill \u001b[38;5;241m=\u001b[39m \u001b[38;5;28;01mFalse\u001b[39;00m)\n",
      "Input \u001b[1;32mIn [7]\u001b[0m, in \u001b[0;36mSimulatePoints\u001b[1;34m()\u001b[0m\n\u001b[0;32m      3\u001b[0m cellArea \u001b[38;5;241m=\u001b[39m np\u001b[38;5;241m.\u001b[39mpi\u001b[38;5;241m*\u001b[39mR\u001b[38;5;241m*\u001b[39m\u001b[38;5;241m*\u001b[39m\u001b[38;5;241m2\u001b[39m\n\u001b[0;32m      5\u001b[0m \u001b[38;5;66;03m#Simulate Poisson point process\u001b[39;00m\n\u001b[1;32m----> 6\u001b[0m nbPoints \u001b[38;5;241m=\u001b[39m np\u001b[38;5;241m.\u001b[39mrandom\u001b[38;5;241m.\u001b[39mpoisson(p\u001b[38;5;241m*\u001b[39mLambda\u001b[38;5;241m*\u001b[39m\u001b[43mareaTotal\u001b[49m)\n\u001b[0;32m      7\u001b[0m theta\u001b[38;5;241m=\u001b[39m\u001b[38;5;241m2\u001b[39m\u001b[38;5;241m*\u001b[39mnp\u001b[38;5;241m.\u001b[39mpi\u001b[38;5;241m*\u001b[39mnp\u001b[38;5;241m.\u001b[39mrandom\u001b[38;5;241m.\u001b[39muniform(\u001b[38;5;241m0\u001b[39m,\u001b[38;5;241m1\u001b[39m,nbPoints) \n\u001b[0;32m      8\u001b[0m r\u001b[38;5;241m=\u001b[39mR\u001b[38;5;241m*\u001b[39mnp\u001b[38;5;241m.\u001b[39msqrt(np\u001b[38;5;241m.\u001b[39mrandom\u001b[38;5;241m.\u001b[39muniform(\u001b[38;5;241m0\u001b[39m,\u001b[38;5;241m1\u001b[39m,nbPoints)) \n",
      "\u001b[1;31mNameError\u001b[0m: name 'areaTotal' is not defined"
     ]
    }
   ],
   "source": [
    "# Samle Points\n",
    "\n",
    "x,y = SimulatePoints()\n",
    "\n",
    "# Outer circle \n",
    "\n",
    "cell = plt.Circle(x0,R ,fill = False)\n",
    "\n",
    "#Plotting\n",
    "\n",
    "eps = R//4\n",
    "figure, axes = plt.subplots()\n",
    "axes.set_aspect( 1 )\n",
    "axes.add_artist(cell)\n",
    "plt.scatter(x,y)\n",
    "axes.set(xlim = (-R-eps,R+eps), ylim = (-R-eps,R+eps))\n",
    "plt.show()"
   ]
  },
  {
   "cell_type": "code",
   "execution_count": 197,
   "id": "4f366519",
   "metadata": {},
   "outputs": [
    {
     "name": "stdout",
     "output_type": "stream",
     "text": [
      "[0, 154.8, 209.1, 245.7, 274.5, 298.8, 300]\n",
      "KS statistic: 0.17077830872769928\n",
      "p-value: 5.720979489971608e-26\n"
     ]
    }
   ],
   "source": [
    "A3_samples = []\n",
    "\n",
    "## Let's samples 100 points \n",
    "for _ in range(1000):\n",
    "    x,y = SimulatePoints()\n",
    "    nbPoints = len(x)\n",
    "    nbPointsInA3 = 0\n",
    "    for i in range(nbPoints):\n",
    "        r = np.sqrt(x[i]**2 + y[i]**2)\n",
    "        if N(r) == 3 :\n",
    "            nbPointsInA3 += 1\n",
    "    A3_samples.append(nbPointsInA3)\n",
    "\n",
    "## We finding the consecutive radius for the rings : We detect the jump by approximating the derivative of N(r)\n",
    "Radius = [0]\n",
    "n = 1000\n",
    "for i in range(2,n):\n",
    "    if N(i*300/n) - N((i-1)*300/n)>0:\n",
    "        Radius =  Radius + [i*300/n]\n",
    "Radius.append(R)\n",
    "print(Radius)\n",
    "\n",
    "## Compute the theoretical parameter of A3 : mu3 \n",
    "\n",
    "theoretical_mu3 = p*Lambda*np.pi*(Radius[3]**2 - Radius[2]**2) \n",
    "\n",
    "## Kolmogorov-Smirnov test\n",
    "\n",
    "from scipy.stats import kstest\n",
    "\n",
    "ks_statistic, p_value = kstest(A3_samples, 'poisson', args=(theoretical_mu3,))\n",
    "\n",
    "print(\"KS statistic:\", ks_statistic)\n",
    "print(\"p-value:\", p_value)\n"
   ]
  },
  {
   "cell_type": "markdown",
   "id": "a9af80b3",
   "metadata": {},
   "source": [
    "____"
   ]
  },
  {
   "cell_type": "markdown",
   "id": "dba84264",
   "metadata": {},
   "source": [
    "### Question 6"
   ]
  },
  {
   "cell_type": "markdown",
   "id": "dd58c61a",
   "metadata": {},
   "source": [
    "$$F(\\phi) = \\sum_{x\\in\\phi} N(x)$$\n",
    "We see that:\n",
    "$$ Cell = B(0,R) = \\bigcup_{k = 1}^{N_{max}} S_k$$\n",
    "\n",
    "where the $(S_k)$ form a disjoint partition of space, that is : $ \\forall k, S_k = B(0,r_k) \\backslash B(0,r_{k-1})$ \n",
    "\n",
    "with $r_k = \\max\\{||x||: x\\in\\mathrm{R}^2,\\,\\, N(x) = k\\}$\n",
    "\n",
    "Then we have:\n",
    "\n",
    "$$\\phi = \\bigcup_{k = 1}^{N_{max}} \\phi \\cap S_k =: \\bigcup_{k = 1}^{N_{max}} \\phi_k$$\n",
    "\n",
    "Where the $(\\phi_k)$ = $(\\phi \\cap S_k)$'s are disjoint since the $(S_k)$'s were\n",
    "\n",
    "So :\n",
    "\n",
    "$$F(\\phi) = \\sum_{k = 1}^{N_{max}} \\sum_{x\\in \\phi_k} N(x) = \\sum_{k = 1}^{N_{max}} \\sum_{x\\in \\phi_k} k = \\sum_{k = 1}^{N_{max}} k \\sum_{x\\in \\phi_k} 1 = \\sum_{k = 1}^{N_{max}} k . AU(\\phi_k) $$\n",
    "\n",
    "where $AU(\\phi_k) = \\zeta_k$ according to the **Theorem 5.3** follows a **Poisson Distribution** with parameter $\\boxed{\\mu_k = \\mu(\\phi_k) = p.\\lambda.Area(\\phi_k) = \\lambda.p.Area(S_k\\cap \\phi)}$. \n",
    "\n",
    "We now prove that these random variables are **independent**:\n",
    "\n",
    "The $(\\phi_k)$ are disjoint. so $\\forall I, J \\subset \\{1,... \\, N_{max} \\}$ such that $I \\cap J = \\emptyset $\n",
    "\n",
    "Denote $\\phi_I = \\bigcup_{i \\in I}^{} \\phi_i$ and $\\phi_J = \\bigcup_{j \\in K}^{} \\phi_j$\n",
    "\n",
    "So $\\phi_I \\cup \\phi_J = \\emptyset $ so by **Theorem 5.3**, $AU(\\phi_I) \\perp \\!\\!\\! \\perp AU(\\phi_J) $ which gives us the independance : $ \\boxed{\\forall I, J \\subset \\{1,... \\, N_{max} \\} | I \\cap J = \\emptyset, (\\zeta_i)_{i \\in I} \\perp \\!\\!\\! \\perp (\\zeta_j)_{j \\in J}} $\n"
   ]
  },
  {
   "cell_type": "markdown",
   "id": "fec9b126",
   "metadata": {},
   "source": [
    "____"
   ]
  },
  {
   "cell_type": "markdown",
   "id": "00c563d9",
   "metadata": {},
   "source": [
    "### Question 7"
   ]
  },
  {
   "cell_type": "markdown",
   "id": "d59a7c94",
   "metadata": {},
   "source": [
    "Let's calculate $E[e^{\\theta X_{\\mu}}]$ with $X_{\\mu} \\sim Pois(\\mu)$\n",
    "\n",
    "$E[e^{\\theta X_{\\mu}}] = \\displaystyle\\sum_{k=0}^{\\infty} e^{\\theta k} \\mathbb{P}(X=k)$\n",
    "$ = \\displaystyle\\sum_{k=0}^{\\infty} e^{\\theta k} \\frac{\\mu^{k}}{k!} e^{-\\mu}$\n",
    "$ = e^{-\\mu} \\displaystyle\\sum_{k=0}^{\\infty} \\frac{(\\mu e^{\\theta})^{k}}{k!}$\n",
    "$ = e^{\\mu (e^{\\theta}-1)}$\n",
    "\n",
    "We then get that $ e^{-K \\mu \\theta} E[e^{\\theta X_{\\mu}}] = e^{\\mu (e^{\\theta}-1-K \\theta)}$\n",
    "\n",
    "We then need to calculate the derivative of this new function in order to find its minimum.\n",
    "\n",
    "Let's define $G(\\theta)= e^{-K \\mu \\theta} E[e^{\\theta X_{\\mu}}]$\n",
    "\n",
    "$G'(\\theta)= \\mu e^{\\mu(e^{\\theta}-K\\theta-1)}(e^{\\theta}-K)$\n",
    "\n",
    "$G'(\\theta)=0$ knowing that $\\mu >0$ gives us: $e^{\\theta} = K$ meaning that $\\theta = ln(K)$\n",
    "\n",
    "\n",
    "Finally, we get that $ \\displaystyle\\min_{\\theta >0}e^{-K \\mu \\theta} E[e^{\\theta X_{\\mu}}]= e^{\\mu (K-1-ln(K))}$ reached for $\\boxed{\\theta = ln(K)}$"
   ]
  },
  {
   "cell_type": "markdown",
   "id": "0f1d4468",
   "metadata": {},
   "source": [
    "____"
   ]
  },
  {
   "cell_type": "markdown",
   "id": "1f1844ff",
   "metadata": {},
   "source": [
    "### Question 8"
   ]
  },
  {
   "cell_type": "markdown",
   "id": "ac1a79c3",
   "metadata": {},
   "source": [
    "We have that $P(X_{\\mu}\\geq K \\mu) \\leq e^{-K \\mu \\theta} E[e^{\\theta X_{\\mu}}]$ for every $\\theta>0$, so in particular we then get $P(X_{\\mu}\\geq K \\mu) \\leq \\displaystyle\\min_{\\theta >0}e^{-K \\mu \\theta} E[e^{\\theta X_{\\mu}}] \\\\$\n",
    "We want to find the $K_{\\mu}$ such that $P(X_{\\mu}\\geq K \\mu) \\leq 10^{-4}. $\n",
    "\n",
    " So we take $\\displaystyle\\min_{\\theta >0}e^{-K \\mu \\theta} E[e^{\\theta X_{\\mu}}] = 10^{-4} \\iff e^{\\mu (K-1-ln(K))}=10^{-4}\\\\$ \n",
    "$ \\iff \\mu(K-1-Kln(K)) = -4 ln(10)$ \n",
    "\n",
    "$ \\iff K(1-ln(K)) = \\frac{-4 ln(10)}{\\mu}+1$\n",
    "\n",
    "This equation admits solution, we denote $K_\\mu$ its biggest "
   ]
  },
  {
   "cell_type": "markdown",
   "id": "76ee6047",
   "metadata": {},
   "source": [
    "____"
   ]
  },
  {
   "cell_type": "markdown",
   "id": "80b2bba6",
   "metadata": {},
   "source": [
    "### Question 9"
   ]
  },
  {
   "cell_type": "code",
   "execution_count": 5,
   "id": "7f4f544d",
   "metadata": {},
   "outputs": [
    {
     "name": "stdout",
     "output_type": "stream",
     "text": [
      "Nmax =  6\n"
     ]
    },
    {
     "data": {
      "image/png": "[encoded data removed]",
      "text/plain": [
       "<Figure size 432x288 with 1 Axes>"
      ]
     },
     "metadata": {
      "needs_background": "light"
     },
     "output_type": "display_data"
    }
   ],
   "source": [
    "## Nmax\n",
    "\n",
    "Nmax= math.ceil(C/(W*math.log2(1+SINRmin)))\n",
    "print('Nmax = ',Nmax)\n",
    "\n",
    "plt.figure()\n",
    "plt.plot(Rad, Requests, label = 'Value of N(r)')\n",
    "plt.plot(Rad, [Nmax]*len(Requests), label = 'Nmax')\n",
    "plt.xlabel('Distance r of the point to the antenna at the origin (0,0)')\n",
    "plt.title('Number of subcarriers required by a user located at radius r')\n",
    "plt.legend()\n",
    "plt.grid()\n",
    "plt.show()"
   ]
  },
  {
   "cell_type": "code",
   "execution_count": 6,
   "id": "71372234",
   "metadata": {},
   "outputs": [
    {
     "name": "stdout",
     "output_type": "stream",
     "text": [
      "The consecutive radius are [r1, r2, r3, r4, r5, r6]:  [0, 154.8, 209.1, 245.7, 274.5, 298.8, 300]\n",
      "The mean value of the ζk for k = 1, · · · , Nmax is :  [7.528211042167838, 6.207714826862397, 5.2293946002006555, 4.706658715384544, 4.376612415976361, 0.22574228171634747]\n"
     ]
    }
   ],
   "source": [
    "## Mean value of ζk : we compute it knowing the expectation of a \n",
    "## Poisson distribution is its parameter\n",
    "\n",
    "# We start by finding the consecutive radius for the rings \n",
    "# We detect the jump by approximating the derivative of N(r)\n",
    "Radius = [0]\n",
    "n = 1000\n",
    "for i in range(2,n):\n",
    "    if N(i*300/n) - N((i-1)*300/n)>0:\n",
    "        Radius =  Radius + [i*300/n]\n",
    "Radius.append(R)\n",
    "\n",
    "print('The consecutive radius are [r1, r2, r3, r4, r5, r6]: ',Radius)\n",
    "\n",
    "# We compute the mean values as the paramters \n",
    "Mean_Values = []\n",
    "for i in range(1,Nmax+1):\n",
    "    Mean_Values.append(Lambda*np.pi*p*(Radius[i]**2 - Radius[i-1]**2))\n",
    "\n",
    "print('The mean value of the ζk for k = 1, · · · , Nmax is : ', Mean_Values)"
   ]
  },
  {
   "cell_type": "code",
   "execution_count": 115,
   "id": "d15f1358",
   "metadata": {},
   "outputs": [
    {
     "name": "stdout",
     "output_type": "stream",
     "text": [
      "The vector sizes for k = 1, · · · , Nmax are [22.083459618847204, 39.31776167857001, 53.345295443889405, 66.97130988855686, 80.35697152460276, 27.037333615932027]\n",
      "The supremum of these dimensions is K = 81\n",
      "Remark : it's the value of the A1 Poisson random variable : it means that the distribution that is the most complex to sample is the one that is the closest to the antenna : which makes sense knowing that it's the most crowded\n"
     ]
    }
   ],
   "source": [
    "## Vector size that represents each distribution : Kμ\n",
    "\n",
    "from scipy.optimize import fsolve\n",
    "\n",
    "def size(mu):\n",
    "    constant = -4*np.log(10)/mu + 1\n",
    "    f = lambda x : x * (1-np.log(x)) - constant\n",
    "    initial_guess = 2\n",
    "    K = fsolve(f, initial_guess)\n",
    "    return K[0]*mu ## according to the probability we computed, we assumed there was a typo and that the distribution is characterized with its K*μ first values\n",
    "\n",
    "#Vector_Sizes = [size(mu) for mu in Mean_Values]\n",
    "Vector_Sizes = [size(Mean_Values[i])*(i+1) for i in range(len(Mean_Values))]\n",
    "print('The vector sizes for k = 1, · · · , Nmax are',Vector_Sizes)\n",
    "\n",
    "K = math.ceil(max(Vector_Sizes))\n",
    "print('The supremum of these dimensions is K =',K)\n",
    "print(\"Remark : it's the value of the A1 Poisson random variable : it means that the distribution that is the most complex to sample is the one that is the closest to the antenna : which makes sense knowing that it's the most crowded\")"
   ]
  },
  {
   "cell_type": "code",
   "execution_count": 116,
   "id": "5d5ce7f7",
   "metadata": {},
   "outputs": [],
   "source": [
    "## Vectors representing the distribution of the ζk s.\n",
    "\n",
    "k = np.array([k for k in range(K+1)])\n",
    "result = []\n",
    "\n",
    "for i in range(Nmax):\n",
    "    mu = Mean_Values[i]\n",
    "    func = lambda x : np.exp(-mu) * mu**x / math.factorial(x)\n",
    "    L = np.array([func(k) for k in range(K+1)])\n",
    "    result.append(L)"
   ]
  },
  {
   "cell_type": "markdown",
   "id": "b079f545",
   "metadata": {},
   "source": [
    "$\\mathbb{P}(iX_\\mu = k) = \\begin{cases}\n",
    "    0 & \\text{if k is not a multiple of i ie } k \\% i \\neq 0 \\\\\n",
    "    \\mathbb{P}(X_\\mu = \\frac{k}{i})  & \\text{if k is not a multiple of i ie } k \\% i = 0 \\\\\n",
    "\\end{cases}$\n",
    "\n",
    "So we can build the vectors representing the distribution of the $k\\zeta_k$ as follows"
   ]
  },
  {
   "cell_type": "code",
   "execution_count": 117,
   "id": "16ac4c23",
   "metadata": {},
   "outputs": [],
   "source": [
    "## Vectors representing the distribution of the k.ζk s\n",
    "\n",
    "kresult = []\n",
    "\n",
    "for i in range(Nmax):\n",
    "    L = []\n",
    "    for k in range(K+1):\n",
    "        mu = Mean_Values[i]\n",
    "        if k%(i+1) != 0 :\n",
    "            L.append(0)\n",
    "        else :\n",
    "            L.append(result[i][k//(i+1)])\n",
    "    kresult.append(L)"
   ]
  },
  {
   "cell_type": "code",
   "execution_count": 118,
   "id": "eab85a0c",
   "metadata": {},
   "outputs": [
    {
     "name": "stdout",
     "output_type": "stream",
     "text": [
      "0.9999962858595166\n"
     ]
    }
   ],
   "source": [
    "## numpy.convolve()\n",
    "\n",
    "distribution = kresult[0]\n",
    "for i in range(1,Nmax):\n",
    "    distribution = np.convolve(distribution,kresult[i])\n",
    "    \n",
    "print(sum(distribution))"
   ]
  },
  {
   "cell_type": "markdown",
   "id": "4c8b4813",
   "metadata": {},
   "source": [
    "____"
   ]
  },
  {
   "cell_type": "markdown",
   "id": "21ba8c78",
   "metadata": {},
   "source": [
    "### Question 10"
   ]
  },
  {
   "cell_type": "markdown",
   "id": "9e0222e1",
   "metadata": {},
   "source": [
    "$\\mathbb{P}(F>S) < 0.01 \\iff 1 - \\mathbb{P}(F \\le s) < 0.01 \\iff \\mathbb{P}(F \\le s) > 0.99 \\iff \\sum_{k = 0}^{s}(\\mathbb{P}(Distribution_F = k)) > 0.99$ "
   ]
  },
  {
   "cell_type": "code",
   "execution_count": 124,
   "id": "209f124b",
   "metadata": {},
   "outputs": [
    {
     "name": "stdout",
     "output_type": "stream",
     "text": [
      "0 0\n",
      "1 5.255485176006432e-13\n",
      "2 4.4819886709967435e-12\n",
      "3 2.2636902221178177e-11\n",
      "4 8.731684448850903e-11\n",
      "5 2.833890889887293e-10\n",
      "6 8.133705279790619e-10\n",
      "7 2.1246923425235458e-09\n",
      "8 5.1458668594866614e-09\n",
      "9 1.1704676242221612e-08\n",
      "10 2.5239517650462668e-08\n",
      "11 5.1966646116162314e-08\n",
      "12 1.0273357917095995e-07\n",
      "13 1.958768318869172e-07\n",
      "14 3.6150989684667937e-07\n",
      "15 6.477973549909819e-07\n",
      "16 1.1299214068147427e-06\n",
      "17 1.9226155311046477e-06\n",
      "18 3.1973220280942906e-06\n",
      "19 5.205216178549215e-06\n",
      "20 8.307520015074574e-06\n",
      "21 1.3014688659440043e-05\n",
      "22 2.003617578825109e-05\n",
      "23 3.034255350647946e-05\n",
      "24 4.524175514785277e-05\n",
      "25 6.647110826777373e-05\n",
      "26 9.63066104004394e-05\n",
      "27 0.00013769055660853828\n",
      "28 0.00019437814416585033\n",
      "29 0.00027110305066984405\n",
      "30 0.00037376121045824644\n",
      "31 0.0005096111114484917\n",
      "32 0.0006874879212335035\n",
      "33 0.0009180276577348598\n",
      "34 0.0012138964855859548\n",
      "35 0.00159001909270014\n",
      "36 0.0020637990364434115\n",
      "37 0.0026553230041392447\n",
      "38 0.003387540168361091\n",
      "39 0.004286407292055917\n",
      "40 0.005380990005383847\n",
      "41 0.0067035107801736785\n",
      "42 0.008289334602534459\n",
      "43 0.010176884208617383\n",
      "44 0.012407478005618006\n",
      "45 0.0150250854349326\n",
      "46 0.018075996513810012\n",
      "47 0.02160840456505736\n",
      "48 0.025671903644270008\n",
      "49 0.03031690481964711\n",
      "50 0.03559397815894083\n",
      "51 0.041553129932746444\n",
      "52 0.04824302705179357\n",
      "53 0.05571018301862185\n",
      "54 0.06399812159786905\n",
      "55 0.07314653591187983\n",
      "56 0.08319046168146209\n",
      "57 0.09415948380503679\n",
      "58 0.10607699537281631\n",
      "59 0.11895952753711095\n",
      "60 0.1328161674183817\n",
      "61 0.1476480794535226\n",
      "62 0.16344814334216456\n",
      "63 0.18020071909008306\n",
      "64 0.19788154667195085\n",
      "65 0.21645778463530252\n",
      "66 0.23588818864696254\n",
      "67 0.25612342764814505\n",
      "68 0.2771065320391418\n",
      "69 0.29877346525758536\n",
      "70 0.32105380733520855\n",
      "71 0.3438715365941747\n",
      "72 0.36714589363824573\n",
      "73 0.39079231025288474\n",
      "74 0.4147233847812563\n",
      "75 0.4388498850019881\n",
      "76 0.4630817594945416\n",
      "77 0.4873291389183143\n",
      "78 0.511503309517177\n",
      "79 0.5355176424449222\n",
      "80 0.5592884641322333\n",
      "81 0.582735854818313\n",
      "82 0.605784364481792\n",
      "83 0.6283636376557143\n",
      "84 0.6504089409306296\n",
      "85 0.6718615892714124\n",
      "86 0.692669269535548\n",
      "87 0.7127862617279421\n",
      "88 0.7321735605122629\n",
      "89 0.7507989012824463\n",
      "90 0.7686366966504309\n",
      "91 0.7856678905067671\n",
      "92 0.8018797378478285\n",
      "93 0.8172655193337615\n",
      "94 0.8318242000496673\n",
      "95 0.8455600422002467\n",
      "96 0.8584821814924988\n",
      "97 0.8706041767739423\n",
      "98 0.8819435421206213\n",
      "99 0.8925212700376179\n",
      "100 0.9023613537739633\n",
      "101 0.9114903159930083\n",
      "102 0.919936750207175\n",
      "103 0.9277308805098649\n",
      "104 0.9349041442424474\n",
      "105 0.9414888013435051\n",
      "106 0.9475175732608441\n",
      "107 0.9530233134811351\n",
      "108 0.9580387109612235\n",
      "109 0.9625960270398223\n",
      "110 0.9667268657761745\n",
      "111 0.9704619771081857\n",
      "112 0.9738310917487905\n",
      "113 0.9768627863459349\n",
      "114 0.9795843771165647\n",
      "115 0.982021839924816\n",
      "116 0.984199754604306\n",
      "117 0.9861412712181019\n",
      "118 0.9878680959010351\n",
      "119 0.9894004939305064\n",
      "120\n"
     ]
    }
   ],
   "source": [
    "summation = 0\n",
    "k = 0\n",
    "while summation <= 0.99 :\n",
    "    print(k, summation)\n",
    "    summation += distribution[k]\n",
    "    k += 1\n",
    "print(k)"
   ]
  },
  {
   "cell_type": "markdown",
   "id": "e811a547",
   "metadata": {},
   "source": [
    "There seems to be an issue with our distribution since it sums do 0.30\n",
    "and thus never reaches 0.99. We commented the code because it does not execute (out of range error)\n",
    "\n",
    "But had we been able to compute S, we would have concluded to a number of available cell that allows to reach a very small probability (0.01) of outage."
   ]
  }
 ],
 "metadata": {
  "kernelspec": {
   "display_name": "Python 3 (ipykernel)",
   "language": "python",
   "name": "python3"
  },
  "language_info": {
   "codemirror_mode": {
    "name": "ipython",
    "version": 3
   },
   "file_extension": ".py",
   "mimetype": "text/x-python",
   "name": "python",
   "nbconvert_exporter": "python",
   "pygments_lexer": "ipython3",
   "version": "3.9.12"
  }
 },
 "nbformat": 4,
 "nbformat_minor": 5
}
